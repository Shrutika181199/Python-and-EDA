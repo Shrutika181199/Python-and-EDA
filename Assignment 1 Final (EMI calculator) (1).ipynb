{
 "cells": [
  {
   "cell_type": "code",
   "execution_count": null,
   "id": "5386d9fc",
   "metadata": {},
   "outputs": [],
   "source": [
    "\n"
   ]
  },
  {
   "cell_type": "code",
   "execution_count": 11,
   "id": "bb59e809",
   "metadata": {},
   "outputs": [
    {
     "name": "stdout",
     "output_type": "stream",
     "text": [
      "enter the principal amount : 5000000\n",
      "enter the annual rate of interest :8\n",
      "enter the tenure in years : 15\n",
      "47782.60421651782 amount must be paid per month as EMI\n"
     ]
    }
   ],
   "source": [
    " # Q1\n",
    "    #calculate the Home Loan EMI now using Python code\n",
    "#Principal Amount 50Lakhs\n",
    "#Rate of interest 8%\n",
    "#Loan repayment tenure is 15 years\n",
    "\n",
    "\n",
    "\n",
    "\n",
    "\n",
    "\n",
    "p = float(input('enter the principal amount : '))        #principal amount\n",
    "\n",
    "r_ = float(input('enter the annual rate of interest :'))       #annual rate of interest\n",
    "\n",
    "n_= float(input('enter the tenure in years : '))        #number of years\n",
    "\n",
    "r = r_/(12*100)           #conversion required to use in formula ..calculating monthly rate of interest\n",
    "\n",
    "\n",
    "n = (n_)*12                # total tenure in months\n",
    "\n",
    "   \n",
    "    \n",
    "    \n",
    "E = p*r*((1+r)**n)/(((1+r)**n)-1)\n",
    "\n",
    "\n",
    "print(E,'amount must be paid per month as EMI')\n",
    "\n",
    "\n",
    "\n"
   ]
  },
  {
   "cell_type": "code",
   "execution_count": 28,
   "id": "a24cf404",
   "metadata": {},
   "outputs": [
    {
     "name": "stdout",
     "output_type": "stream",
     "text": [
      "47782.6 amount must be paid per month as EMI\n"
     ]
    }
   ],
   "source": [
    "# Q1 solved by taking specific values\n",
    "\n",
    "p = 5000000      #principal amount\n",
    "\n",
    "r_ = 8       #annual rate of interest\n",
    "\n",
    "n_= 15        #number of years\n",
    "\n",
    "r = r_/(12*100)           #conversion required to use in formula ..calculating monthly rate of interest\n",
    "\n",
    "\n",
    "n = (n_)*12                # total tenure in months\n",
    "\n",
    "   \n",
    "    \n",
    "    \n",
    "E = p*r*((1+r)**n)/(((1+r)**n)-1)\n",
    "\n",
    "\n",
    "print(round(E,1),'amount must be paid per month as EMI')\n",
    "\n"
   ]
  },
  {
   "cell_type": "code",
   "execution_count": 2,
   "id": "a6bd2797",
   "metadata": {},
   "outputs": [
    {
     "name": "stdout",
     "output_type": "stream",
     "text": [
      "2791723.2 is maximum amount of Loan you can take/afford \n"
     ]
    }
   ],
   "source": [
    "# Q2 If the interest rate increases to 10%,\n",
    "#you cannot pay more than 30,000 \n",
    "#find the maximum amount of Loan you can take/afford for the same period\n",
    "\n",
    "r_ = 10       #annual rate of interest\n",
    "\n",
    "n_= 15       #number of years\n",
    "\n",
    "r = r_/(12*100)           #conversion required to use in formula ..calculating monthly rate of interest\n",
    "\n",
    "\n",
    "n = (n_)*12  \n",
    "\n",
    "E = 30000   # max amount that can be paid\n",
    "\n",
    "\n",
    "p = (E*(((1+r)**n)-1))/(r*((1+r)**n))\n",
    "\n",
    "print(round(p,1),'is maximum amount of Loan you can take/afford ')\n"
   ]
  },
  {
   "cell_type": "code",
   "execution_count": null,
   "id": "77e3c408",
   "metadata": {},
   "outputs": [],
   "source": []
  },
  {
   "cell_type": "code",
   "execution_count": 6,
   "id": "6ade2a0d",
   "metadata": {},
   "outputs": [
    {
     "name": "stdout",
     "output_type": "stream",
     "text": [
      "393498.89704334823 for end of  the year : 1.0\n",
      "378567.9204198521 for end of  the year : 2.0\n",
      "362397.68010045134 for end of  the year : 3.0\n",
      "344885.31780958123 for end of  the year : 4.0\n",
      "325919.43808553467 for end of  the year : 5.0\n",
      "305379.3996982215 for end of  the year : 6.0\n",
      "283134.54825495393 for end of  the year : 7.0\n",
      "259043.3851128889 for end of  the year : 8.0\n",
      "232952.66731161316 for end of  the year : 9.0\n",
      "204696.43280057758 for end of  the year : 10.0\n",
      "174094.94476088864 for end of  the year : 11.0\n",
      "140953.5483063297 for end of  the year : 12.0\n",
      "105061.43229113016 for end of  the year : 13.0\n",
      "66190.2883483911 for end of  the year : 14.0\n",
      "24092.85862936092 for end of  the year : 15.0\n"
     ]
    }
   ],
   "source": [
    "#Q3 Part 1\n",
    "#For the Que 1. what is the total interest paid by you year-wise\n",
    "\n",
    "\n",
    "p = 5000000      #principal amount\n",
    "\n",
    "r_ = 8       #annual rate of interest\n",
    "\n",
    "n_= 15        #number of years\n",
    "\n",
    "r = r_/(12*100)           #conversion required to use in formula ..calculating monthly rate of interest\n",
    "\n",
    "\n",
    "n = (n_)*12                # total tenure in months\n",
    "\n",
    "   \n",
    "    \n",
    "    \n",
    "E = p*r*((1+r)**n)/(((1+r)**n)-1)   # this is a total amount that paid each month including the interest\n",
    "\n",
    "\n",
    "principal_amount_remaining  =  5000000   # taking initial total principal amount\n",
    "\n",
    "total_interest = 0\n",
    "\n",
    "for i in range(1,(15*12)+1):\n",
    "    interest_for_current_month = r* principal_amount_remaining\n",
    "    \n",
    "    principal_amount_deducted =E -interest_for_current_month\n",
    "    \n",
    "    principal_amount_remaining = principal_amount_remaining   -  principal_amount_deducted\n",
    "    \n",
    "    # print('interest for the month',i,'is',interest_for_current_month)\n",
    "    \n",
    "    total_interest = total_interest + interest_for_current_month\n",
    "    if (i%12==0) :\n",
    "        print( total_interest,'for end of  the year :',(i/12))\n",
    "    \n",
    "        total_interest = 0\n",
    "        \n",
    "    \n",
    "    \n",
    "    \n",
    "    "
   ]
  },
  {
   "cell_type": "code",
   "execution_count": 4,
   "id": "31ff2889",
   "metadata": {},
   "outputs": [
    {
     "name": "stdout",
     "output_type": "stream",
     "text": [
      "cumulative interest after end of 15 years is  3600868.8\n"
     ]
    }
   ],
   "source": [
    "#Q3 Part 2\n",
    "\n",
    "#Also, what is the total cumulative interest paid by you in 15 years?\n",
    "\n",
    "p = 5000000      #principal amount\n",
    "\n",
    "r_ = 8       #annual rate of interest\n",
    "\n",
    "n_= 15        #number of years\n",
    "sum_cumulative = 0                       #initialising sum of cumulative interest as zero\n",
    "principal_amount_remaining  =  5000000   # taking initial total principal amount\n",
    "\n",
    "\n",
    "r = r_/(12*100)           #conversion required to use in formula ..calculating monthly rate of interest\n",
    "\n",
    "\n",
    "n = (n_)*12                # total tenure in months\n",
    "    \n",
    "E = p*r*((1+r)**n)/(((1+r)**n)-1)   # this is a total amount that paid each month including the interest\n",
    "\n",
    "\n",
    "\n",
    "for i in range(1,(15*12+1)):\n",
    "    interest_for_current_month = r* principal_amount_remaining\n",
    "    \n",
    "    principal_amount_deducted =E -interest_for_current_month\n",
    "    \n",
    "    principal_amount_remaining = principal_amount_remaining   -  principal_amount_deducted\n",
    "    \n",
    "   \n",
    "    \n",
    "    sum_cumulative = sum_cumulative+interest_for_current_month\n",
    "    \n",
    "    \n",
    "print('cumulative interest after end of 15 years is ',round(sum_cumulative,1))\n",
    "    \n",
    "\n"
   ]
  },
  {
   "cell_type": "code",
   "execution_count": null,
   "id": "7d097607",
   "metadata": {},
   "outputs": [],
   "source": []
  },
  {
   "cell_type": "markdown",
   "id": "fddbc841",
   "metadata": {},
   "source": []
  },
  {
   "cell_type": "code",
   "execution_count": 3,
   "id": "e7a3d5a8",
   "metadata": {},
   "outputs": [
    {
     "name": "stdout",
     "output_type": "stream",
     "text": [
      "number of months required are : 116 means 9.666666666666666 years to pay atleast 50% of principal amount \n"
     ]
    }
   ],
   "source": [
    "#Q4\n",
    "#For the Que 1., in how many months would you have paid atleast 50% of the Principal amount.\n",
    "\n",
    "\n",
    "p = 5000000      #principal amount\n",
    "\n",
    "r_ = 8       #annual rate of interest\n",
    "\n",
    "n_= 15        #number of years\n",
    "\n",
    "r = r_/(12*100)           #conversion required to use in formula ..calculating monthly rate of interest\n",
    "\n",
    "\n",
    "n = (n_)*12                # total tenure in months\n",
    "\n",
    "   \n",
    "    \n",
    "    \n",
    "E = p*r*((1+r)**n)/(((1+r)**n)-1)   # this is a total amount that paid each month including the interest\n",
    "\n",
    "\n",
    "principal_amount_remaining  =  5000000   # taking initial total principal amount\n",
    "\n",
    "\n",
    "for i in range(1,(15*12+1)):\n",
    "    interest_for_current_month = r* principal_amount_remaining\n",
    "    \n",
    "    principal_amount_deducted =E -interest_for_current_month\n",
    "    \n",
    "    principal_amount_remaining = principal_amount_remaining   -  principal_amount_deducted\n",
    "    \n",
    "    if principal_amount_remaining <= (0.5*p):\n",
    "      \n",
    "        year = (i/12)\n",
    "        print('number of months required are :',i,'means', year,'years to pay atleast 50% of principal amount ')\n",
    "        break\n",
    "    \n",
    "    \n"
   ]
  },
  {
   "cell_type": "code",
   "execution_count": null,
   "id": "0515192c",
   "metadata": {},
   "outputs": [],
   "source": []
  }
 ],
 "metadata": {
  "kernelspec": {
   "display_name": "Python 3",
   "language": "python",
   "name": "python3"
  },
  "language_info": {
   "codemirror_mode": {
    "name": "ipython",
    "version": 3
   },
   "file_extension": ".py",
   "mimetype": "text/x-python",
   "name": "python",
   "nbconvert_exporter": "python",
   "pygments_lexer": "ipython3",
   "version": "3.8.8"
  }
 },
 "nbformat": 4,
 "nbformat_minor": 5
}
